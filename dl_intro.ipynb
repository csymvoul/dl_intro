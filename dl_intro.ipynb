{
  "cells": [
    {
      "cell_type": "markdown",
      "metadata": {
        "id": "VxmQ_lNGvZzf"
      },
      "source": [
        "# Machine Learning (ML)\n",
        "\n"
      ]
    },
    {
      "cell_type": "markdown",
      "metadata": {
        "id": "jAhqU_kib9j7"
      },
      "source": [
        "## What is Machine Learning?\n",
        "* A subset of Artificial Intelligence that aims at giving the computer the ability to learn from data without being explicitly shown (programmed) how to do that.\n",
        "\n",
        "<!-- ![ML_DL.png](https://drive.google.com/uc?export=view&id=1VLOv0I5vLx8M8BWrgmy090cVzB78JYJz) -->\n",
        "\n",
        "![ML_DL.png](Figures/ML_DL.png)\n",
        "\n",
        "A ML model is able to _gradually improve its performance_, by repeating a specific process, without being re-developed to do so.\n"
      ]
    },
    {
      "cell_type": "markdown",
      "metadata": {
        "id": "yBNzRduycHWZ"
      },
      "source": [
        "## Purpose\n",
        "It's purpose is to create machines that are capable of: \n",
        "* learning, \n",
        "* improve their perfomance in specific areas,\n",
        "* via the use of earlier knowledge and experience.\n",
        "\n",
        "By experience we mean the __data__, the __measurements__ we may have, and the __observations__. "
      ]
    },
    {
      "cell_type": "markdown",
      "metadata": {
        "id": "lenuYiEhcMX7"
      },
      "source": [
        "## Machine Learning types\n",
        "* __Supervised learning__: A ML model is trained over data that have labels. Typical supervised learning problems regard: \n",
        "    - __Classification__: Classify input data to pre-defined classes. E.g.classify clothing into t-shirts, boots, shorts, etc.\n",
        "    - __Regression__: Identify a numerical relationship between the input and the output data. E.g., Predict the temperature of a city based on historical data, etc.\n",
        "* __Unsupervised learning__: A ML model aims at learning patterns from unlabeled data. Typical unsupervised learning problems regard: \n",
        "    - __Clustering__: A ML model needs to divide the input data into a number of groups (aka. clusters). E.g., group users based on their location \n",
        "* __Semi-supervised learning__: A hybrid problem, where a ML model needs to combine a small number of labeled data with a large number of unlabeled data. \n",
        "* __Re-inforcement learning__: An (intelligent) agent works its way around an environment and aims at maiximinz a cumulative reward. E.g., a self-driving car, or a chess playing agent.\n"
      ]
    },
    {
      "cell_type": "markdown",
      "metadata": {
        "id": "g_F9rvGUcP_z"
      },
      "source": [
        "## Machine Learning algorithms\n",
        "For each problem, there exist several algorithms. For instance: \n",
        "* For __classification problems__, we may use a binary classifier two split the data into two classes, or a multi-class classifier if there exist several classes. Such algorithms include, Logistic Regression, Support Vector Machines, Decision Trees, Random Forests, etc.\n",
        "* For __clustering problems__, the algorithms include DBSCAN, K-Means, K-Medoids, Hierarchical clustering, etc."
      ]
    },
    {
      "cell_type": "markdown",
      "metadata": {
        "id": "OHBq39Jgb0Y_"
      },
      "source": [
        "# Deep Learning (DL)\n",
        "It is a type of Machine Learning, based on Artificial Neural Networks, that imitates the way humans earn knowledge. It can be used for solving supervised, semi-supervised and unsupervised learning problems. \n",
        "\n",
        "<!-- ![Deep_Learning_Network.png](https://drive.google.com/uc?export=view&id=1ZmPCmATnNJC4j-AL_yDNT0b6bS1S5gxb) -->\n",
        "\n",
        "![Deep_Learning_Network.png](Figures/deep_learning_network.png)\n",
        "\n",
        "A DL network is in fact, a large Neural Network, that consists of neurons that are interconnected through layers. There exist 3 categories of layers: \n",
        "1. the input layer where the input data are inserted in the networkm,\n",
        "2. the hidden layers, that are between the input and output layers, whose neurons receive inputs and produce outputs given an activation function(this is where the magic happens),\n",
        "3. the output layer, which is the final layer of a (Deep) Neural Network, where the predictions are obtained.\n",
        "\n",
        "There exist several types (aka architectures or classes) of DNN such as: \n",
        "- Convolutional Neural Networks (this is what we will use today)\n",
        "- Recurrent Neural Networks\n",
        "- Self-organizing Maps\n",
        "- Auto-encoders, etc.\n",
        "\n",
        "<!-- <img src=\"https://drive.google.com/uc?export=view&id=10_1IkpeWhXEITOQ-qKg0Uklx9oPse_Qi\" width=\"800\" height=\"500\" /> -->\n",
        "\n",
        "<img src=\"Figures/dnn_architectures.png\" width=\"800\" height=\"500\" />\n",
        "\n",
        "<sup>*Image taken from [IBM Developer](https://developer.ibm.com/articles/cc-machine-learning-deep-learning-architectures/).*</sup>"
      ]
    },
    {
      "cell_type": "markdown",
      "metadata": {
        "id": "zN13a1jUeC-g"
      },
      "source": [
        "## Activation functions\n",
        "An activation function  transforms the input of a hidden layer into an output. This output is then forwarded to the next layer as input. \n",
        "\n",
        "<!-- ![neuron_af.png](https://drive.google.com/uc?export=view&id=1blx6VWrpj0bidldQpKvwwaz6NKiTov4C) -->\n",
        "\n",
        "![neuron_af.png](Figures/neuron.png)\n",
        "\n",
        "Where: \n",
        "- $x_i$ are the input data \n",
        "- $w_i$ the weight of each input \n",
        "- $β$ is the bias\n",
        "- $f$ is the activation function"
      ]
    },
    {
      "cell_type": "markdown",
      "metadata": {
        "id": "ff2meSFEiVIX"
      },
      "source": [
        "## Convolutional Neural Networks\n",
        "Most commonly used for analyzing images. Such networks, work their way towards their prediction by gradually identifying features (from low level to higher level ones), as shown in the figure below:\n",
        "\n",
        "<!-- ![cnn_features.png](https://drive.google.com/uc?export=view&id=1HitX7S_merVQJgtAxj6-aSPW5QMazkxq) -->\n",
        "\n",
        "![cnn_features.png](Figures/cnn_features.png)\n"
      ]
    },
    {
      "cell_type": "markdown",
      "metadata": {
        "id": "R-QsT5zImyQT"
      },
      "source": [
        "# Practical example\n",
        "So that is enough with the theoretical stuff (for now). It's time to actually develop, train, and validate our own DL model. \n",
        "\n",
        "What we will do today, is create a _CNN model_ that will be trained using the __[Fashion MNIST](https://www.kaggle.com/datasets/zalando-research/fashionmnist)__ data set, which consists of: \n",
        "- $60,000$ examples for training, and  \n",
        "- $10,000$ examples for testing \n",
        "\n",
        "Our goal is to train that model in order to successfully predict the class of an object in an image. The available classes are the following: \n",
        "- 0 T-shirt/top\n",
        "- 1 Trouser\n",
        "- 2 Pullover\n",
        "- 3 Dress\n",
        "- 4 Coat\n",
        "- 5 Sandal\n",
        "- 6 Shirt\n",
        "- 7 Sneaker\n",
        "- 8 Bag\n",
        "- 9 Ankle boot\n",
        "\n",
        "Each image is in grayscale and a dimension of $28\\times28$ pixels, for a total of $784$ pixels. Each pixel has an integer value in the range of $[0,255]$."
      ]
    },
    {
      "cell_type": "markdown",
      "metadata": {
        "id": "7kiyTDpWonep"
      },
      "source": [
        "## Installing dependencies"
      ]
    },
    {
      "cell_type": "markdown",
      "metadata": {
        "id": "dvwmp5uboyH_"
      },
      "source": [
        "**Note:** whenever a command starts with `!`, it is ran on the terminal of the VM."
      ]
    },
    {
      "cell_type": "code",
      "execution_count": null,
      "metadata": {
        "id": "Il_cxJ2Fmx-r"
      },
      "outputs": [],
      "source": [
        "!pip install tensorflow"
      ]
    },
    {
      "cell_type": "markdown",
      "metadata": {
        "id": "bYk2dVTQpDKL"
      },
      "source": [
        "## Import TensorFlow and other helper libraries"
      ]
    },
    {
      "cell_type": "code",
      "execution_count": null,
      "metadata": {
        "colab": {
          "base_uri": "https://localhost:8080/",
          "height": 35
        },
        "id": "rTwST_S2pBVM",
        "outputId": "d34556cf-c7a6-4988-8815-c82eb34e2f28"
      },
      "outputs": [
        {
          "data": {
            "application/vnd.google.colaboratory.intrinsic+json": {
              "type": "string"
            },
            "text/plain": [
              "'2.8.2'"
            ]
          },
          "execution_count": 2,
          "metadata": {},
          "output_type": "execute_result"
        }
      ],
      "source": [
        "import tensorflow as tf\n",
        "import math\n",
        "import numpy as np\n",
        "import matplotlib.pyplot as plt\n",
        "\n",
        "# Verify that TensorFlow is properly imported, by checking the version\n",
        "tf.__version__"
      ]
    },
    {
      "cell_type": "markdown",
      "metadata": {
        "id": "gMnfvEi-pQCH"
      },
      "source": [
        "## Import Fashion MNIST data set from the TensorFlow Data sets collection"
      ]
    },
    {
      "cell_type": "code",
      "execution_count": null,
      "metadata": {
        "id": "OaQmY8xdvTPi"
      },
      "outputs": [],
      "source": [
        "import tensorflow_datasets as tfds\n",
        "\n",
        "dataset, metadata = tfds.load('fashion_mnist', as_supervised=True, with_info=True)"
      ]
    },
    {
      "cell_type": "code",
      "execution_count": 84,
      "metadata": {
        "id": "ewhxvsk2E5IP"
      },
      "outputs": [],
      "source": [
        "# Split dataset to train and test sets\n",
        "train_dataset, test_dataset = dataset['train'], dataset['test']"
      ]
    },
    {
      "cell_type": "markdown",
      "metadata": {
        "id": "YuIa7ZsscnDS"
      },
      "source": [
        "## Data information "
      ]
    },
    {
      "cell_type": "code",
      "execution_count": 85,
      "metadata": {
        "colab": {
          "base_uri": "https://localhost:8080/"
        },
        "id": "9zvtIOPeq9IF",
        "outputId": "01c49225-5626-4f69-c524-a71f5715640c"
      },
      "outputs": [
        {
          "name": "stdout",
          "output_type": "stream",
          "text": [
            "Number of training examples: 60000\n",
            "Number of test examples:     10000\n"
          ]
        }
      ],
      "source": [
        "num_train_examples = metadata.splits['train'].num_examples\n",
        "num_test_examples = metadata.splits['test'].num_examples\n",
        "print(\"Number of training examples: {}\".format(num_train_examples))\n",
        "print(\"Number of test examples:     {}\".format(num_test_examples))"
      ]
    },
    {
      "cell_type": "markdown",
      "metadata": {
        "id": "iFp4-UU_hbAS"
      },
      "source": [
        "### Assign names to each class \n",
        "Currently we have class numbers $[0,9]$"
      ]
    },
    {
      "cell_type": "code",
      "execution_count": 86,
      "metadata": {
        "id": "5G7iTjkHhXsT"
      },
      "outputs": [],
      "source": [
        "class_names = ['T-shirt/top', 'Trouser', 'Pullover', 'Dress', 'Coat',\n",
        "               'Sandal',      'Shirt',   'Sneaker',  'Bag',   'Ankle boot']"
      ]
    },
    {
      "cell_type": "markdown",
      "metadata": {
        "id": "h-UvDGFbhL1C"
      },
      "source": [
        "### Data visualization"
      ]
    },
    {
      "cell_type": "code",
      "execution_count": 87,
      "metadata": {
        "colab": {
          "base_uri": "https://localhost:8080/",
          "height": 589
        },
        "id": "D1TEwlTVhN1e",
        "outputId": "c42f3ae1-4dc1-4347-878b-54608abcf363"
      },
      "outputs": [
        {
          "data": {
            "image/png": "[encoded data removed]",
            "text/plain": [
              "<Figure size 720x720 with 25 Axes>"
            ]
          },
          "metadata": {},
          "output_type": "display_data"
        }
      ],
      "source": [
        "plt.figure(figsize=(10,10))\n",
        "i = 0\n",
        "for (image, label) in test_dataset.take(25):\n",
        "    image = image.numpy().reshape((28,28))\n",
        "    plt.subplot(5,5,i+1)\n",
        "    plt.xticks([])\n",
        "    plt.yticks([])\n",
        "    plt.grid(False)\n",
        "    plt.imshow(image, cmap=plt.cm.binary)\n",
        "    plt.xlabel(class_names[label])\n",
        "    i += 1\n",
        "plt.show()"
      ]
    },
    {
      "cell_type": "markdown",
      "metadata": {
        "id": "9MP-9Ph0dF3V"
      },
      "source": [
        "## Data preprocessing"
      ]
    },
    {
      "cell_type": "markdown",
      "metadata": {
        "id": "Exa7E1dwhtXh"
      },
      "source": [
        "### Data normalization\n",
        "\n",
        "Useful since: \n",
        "* We avoid redundancy on the data\n",
        "* Ensure similarity across data \n",
        "* Rescale data so that everything is within a known range\n",
        "\n",
        "Usually required when data are in different ranges (i.e., when we have data regarding age where the range is $[0, 100]$ and salary where the range is $[5000,~200.000]$"
      ]
    },
    {
      "cell_type": "code",
      "execution_count": 88,
      "metadata": {
        "colab": {
          "base_uri": "https://localhost:8080/"
        },
        "id": "I0tX90gJdJRz",
        "outputId": "3a3d706e-263c-48d9-8072-d7ce9a568fea"
      },
      "outputs": [
        {
          "name": "stdout",
          "output_type": "stream",
          "text": [
            "<CacheDataset element_spec=(TensorSpec(shape=(28, 28, 1), dtype=tf.float32, name=None), TensorSpec(shape=(), dtype=tf.int64, name=None))>\n"
          ]
        }
      ],
      "source": [
        "def normalize(images, labels):\n",
        "  images = tf.cast(images, tf.float32) # type casting Tensor (i.e., multi-dimensional array of elements) as tf.float32\n",
        "  images /= 255 # normalization so that everything will be in the same [0, 1] range\n",
        "  return images, labels\n",
        "\n",
        "# The map function applies the normalize function to each element in the train\n",
        "# and test datasets\n",
        "train_dataset =  train_dataset.map(normalize)\n",
        "test_dataset  =  test_dataset.map(normalize)\n",
        "\n",
        "# The first time you use the dataset, the images will be loaded from disk\n",
        "# Caching will keep them in memory, making training faster\n",
        "train_dataset =  train_dataset.cache()\n",
        "test_dataset  =  test_dataset.cache()\n",
        "\n",
        "print(train_dataset)"
      ]
    },
    {
      "cell_type": "markdown",
      "metadata": {
        "id": "A3D3Q2nLiVft"
      },
      "source": [
        "## Building the model"
      ]
    },
    {
      "cell_type": "code",
      "execution_count": 89,
      "metadata": {
        "id": "5-nTUTq6iXOl"
      },
      "outputs": [],
      "source": [
        "model = tf.keras.Sequential([\n",
        "    #  A convolutional layer that applies 32 filters with a kernel size of `3x3`\n",
        "    tf.keras.layers.Conv2D(32, (3,3), padding='same', activation=tf.nn.relu,\n",
        "                           input_shape=(28, 28, 1)),\n",
        "    # A MaxPooling layer for 2D data that downsamples the input data \n",
        "    tf.keras.layers.MaxPooling2D((2, 2), strides=2),\n",
        "    tf.keras.layers.Conv2D(64, (3,3), padding='same', activation=tf.nn.relu),\n",
        "    tf.keras.layers.MaxPooling2D((2, 2), strides=2),\n",
        "    # Flattens the input data. e.g., if we have a 2d array with the following dimensions: [10, 10] it will converted into [1, 100]\n",
        "    tf.keras.layers.Flatten(),\n",
        "    # 128 units (i.e., neurons) / The Activation function is the ReLU\n",
        "    tf.keras.layers.Dense(512, activation=tf.nn.relu),\n",
        "    tf.keras.layers.Dense(256, activation=tf.nn.relu),\n",
        "    # 10 units (because there exist 10 classes) / The Activation function is the Softmax \n",
        "    # (frequently used in multinomial classification problems)\n",
        "    # Calculates the probability of an input data to be classified in either one of each class\n",
        "    # The sum of all probabilities is equal to 1. \n",
        "    # The object is classified to the class with the highest probability\n",
        "    tf.keras.layers.Dense(10, activation=tf.nn.softmax)\n",
        "])"
      ]
    },
    {
      "cell_type": "markdown",
      "metadata": {
        "id": "JYRDxyB2la1J"
      },
      "source": [
        "### Compile neural network"
      ]
    },
    {
      "cell_type": "markdown",
      "metadata": {
        "id": "vN2KE_7oljos"
      },
      "source": [
        "* Optimizer: Adjusts the inner parameters of the model in order to minimize the loss\n",
        "* Loss (i.e., loss function): Measures how far away the predicted output is, from the desired output\n",
        "* Metrics: We use accuracy in order to test how many of the test data are correctly classified"
      ]
    },
    {
      "cell_type": "code",
      "execution_count": 90,
      "metadata": {
        "id": "HFiiNheOlajO"
      },
      "outputs": [],
      "source": [
        "model.compile(optimizer='adam',\n",
        "              loss=tf.keras.losses.SparseCategoricalCrossentropy(),\n",
        "              metrics=['accuracy'])"
      ]
    },
    {
      "cell_type": "markdown",
      "metadata": {
        "id": "RE5YihkdmRe5"
      },
      "source": [
        "## Training the model "
      ]
    },
    {
      "cell_type": "code",
      "execution_count": 91,
      "metadata": {
        "id": "SS9S3sUKmQ5N"
      },
      "outputs": [],
      "source": [
        "BATCH_SIZE = 32\n",
        "train_dataset = train_dataset.cache().repeat().shuffle(num_train_examples).batch(BATCH_SIZE)\n",
        "test_dataset = test_dataset.cache().batch(BATCH_SIZE)"
      ]
    },
    {
      "cell_type": "code",
      "execution_count": 92,
      "metadata": {
        "colab": {
          "base_uri": "https://localhost:8080/"
        },
        "id": "yRljFmyammrP",
        "outputId": "5a820660-915d-4771-e811-9ba432c34afe"
      },
      "outputs": [
        {
          "name": "stdout",
          "output_type": "stream",
          "text": [
            "Epoch 1/10\n",
            "1875/1875 [==============================] - 9s 4ms/step - loss: 0.4123 - accuracy: 0.8477\n",
            "Epoch 2/10\n",
            "1875/1875 [==============================] - 7s 4ms/step - loss: 0.2567 - accuracy: 0.9053\n",
            "Epoch 3/10\n",
            "1875/1875 [==============================] - 7s 4ms/step - loss: 0.2091 - accuracy: 0.9235\n",
            "Epoch 4/10\n",
            "1875/1875 [==============================] - 7s 4ms/step - loss: 0.1742 - accuracy: 0.9369\n",
            "Epoch 5/10\n",
            "1875/1875 [==============================] - 7s 4ms/step - loss: 0.1477 - accuracy: 0.9458\n",
            "Epoch 6/10\n",
            "1875/1875 [==============================] - 7s 4ms/step - loss: 0.1278 - accuracy: 0.9530\n",
            "Epoch 7/10\n",
            "1875/1875 [==============================] - 7s 4ms/step - loss: 0.1058 - accuracy: 0.9612\n",
            "Epoch 8/10\n",
            "1875/1875 [==============================] - 7s 4ms/step - loss: 0.0916 - accuracy: 0.9662\n",
            "Epoch 9/10\n",
            "1875/1875 [==============================] - 8s 4ms/step - loss: 0.0751 - accuracy: 0.9729\n",
            "Epoch 10/10\n",
            "1875/1875 [==============================] - 8s 4ms/step - loss: 0.0665 - accuracy: 0.9755\n"
          ]
        },
        {
          "data": {
            "text/plain": [
              "<keras.callbacks.History at 0x7efc3879dfd0>"
            ]
          },
          "execution_count": 92,
          "metadata": {},
          "output_type": "execute_result"
        }
      ],
      "source": [
        "model.fit(train_dataset, epochs=10, steps_per_epoch=math.ceil(num_train_examples/BATCH_SIZE))"
      ]
    },
    {
      "cell_type": "markdown",
      "metadata": {
        "id": "OwUtUEAcm_mr"
      },
      "source": [
        "## Evaluate model (accuracy metric)"
      ]
    },
    {
      "cell_type": "code",
      "execution_count": 93,
      "metadata": {
        "colab": {
          "base_uri": "https://localhost:8080/"
        },
        "id": "j8J1SQZgnB6Y",
        "outputId": "75cbb128-97ce-4ba0-ad4e-975a1f8bb12a"
      },
      "outputs": [
        {
          "name": "stdout",
          "output_type": "stream",
          "text": [
            "313/313 [==============================] - 1s 4ms/step - loss: 0.4073 - accuracy: 0.9178\n",
            "Accuracy on test dataset: 0.9178000092506409\n"
          ]
        }
      ],
      "source": [
        "test_loss, test_accuracy = model.evaluate(test_dataset, steps=math.ceil(num_test_examples/32))\n",
        "print('Accuracy on test dataset:', test_accuracy)"
      ]
    },
    {
      "cell_type": "markdown",
      "metadata": {
        "id": "U9Dj9qDe7vil"
      },
      "source": [
        "## Make predictions "
      ]
    },
    {
      "cell_type": "code",
      "execution_count": 94,
      "metadata": {
        "colab": {
          "base_uri": "https://localhost:8080/"
        },
        "id": "j-83Rv2M7u8R",
        "outputId": "256e6581-699e-48c9-d756-76eb293dba9a"
      },
      "outputs": [
        {
          "name": "stdout",
          "output_type": "stream",
          "text": [
            "WARNING:tensorflow:5 out of the last 5 calls to <function Model.make_predict_function.<locals>.predict_function at 0x7efc3831b320> triggered tf.function retracing. Tracing is expensive and the excessive number of tracings could be due to (1) creating @tf.function repeatedly in a loop, (2) passing tensors with different shapes, (3) passing Python objects instead of tensors. For (1), please define your @tf.function outside of the loop. For (2), @tf.function has experimental_relax_shapes=True option that relaxes argument shapes that can avoid unnecessary retracing. For (3), please refer to https://www.tensorflow.org/guide/function#controlling_retracing and https://www.tensorflow.org/api_docs/python/tf/function for  more details.\n"
          ]
        },
        {
          "name": "stderr",
          "output_type": "stream",
          "text": [
            "WARNING:tensorflow:5 out of the last 5 calls to <function Model.make_predict_function.<locals>.predict_function at 0x7efc3831b320> triggered tf.function retracing. Tracing is expensive and the excessive number of tracings could be due to (1) creating @tf.function repeatedly in a loop, (2) passing tensors with different shapes, (3) passing Python objects instead of tensors. For (1), please define your @tf.function outside of the loop. For (2), @tf.function has experimental_relax_shapes=True option that relaxes argument shapes that can avoid unnecessary retracing. For (3), please refer to https://www.tensorflow.org/guide/function#controlling_retracing and https://www.tensorflow.org/api_docs/python/tf/function for  more details.\n"
          ]
        }
      ],
      "source": [
        "for test_images, test_labels in test_dataset.take(1):\n",
        "  test_images = test_images.numpy()\n",
        "  test_labels = test_labels.numpy()\n",
        "  predictions = model.predict(test_images)"
      ]
    },
    {
      "cell_type": "code",
      "execution_count": 95,
      "metadata": {
        "colab": {
          "base_uri": "https://localhost:8080/"
        },
        "id": "qFSoz6L_74vq",
        "outputId": "22f7d2de-8564-4807-a231-ee6dff9057c4"
      },
      "outputs": [
        {
          "data": {
            "text/plain": [
              "(32, 10)"
            ]
          },
          "execution_count": 95,
          "metadata": {},
          "output_type": "execute_result"
        }
      ],
      "source": [
        "predictions.shape"
      ]
    },
    {
      "cell_type": "code",
      "execution_count": 96,
      "metadata": {
        "colab": {
          "base_uri": "https://localhost:8080/"
        },
        "id": "MMv9O8d376tg",
        "outputId": "3fddae5e-36cb-40d8-a023-2ce2d071a0c0"
      },
      "outputs": [
        {
          "data": {
            "text/plain": [
              "array([3.9607104e-07, 4.8326900e-08, 3.8059824e-04, 1.2522589e-06,\n",
              "       9.9588323e-01, 2.7645401e-08, 3.7310980e-03, 1.8159638e-07,\n",
              "       9.3957715e-07, 2.2484580e-06], dtype=float32)"
            ]
          },
          "execution_count": 96,
          "metadata": {},
          "output_type": "execute_result"
        }
      ],
      "source": [
        "# Get the class probabilities for the first image in the test_dataset\n",
        "predictions[0]"
      ]
    },
    {
      "cell_type": "code",
      "execution_count": 97,
      "metadata": {
        "colab": {
          "base_uri": "https://localhost:8080/"
        },
        "id": "nKpOIREk79fO",
        "outputId": "9e4d4b0a-77f7-47fe-dcaa-5bf227578e1a"
      },
      "outputs": [
        {
          "data": {
            "text/plain": [
              "4"
            ]
          },
          "execution_count": 97,
          "metadata": {},
          "output_type": "execute_result"
        }
      ],
      "source": [
        "# Get the element with the maximum value (i.e., the class with the highest probability)\n",
        "np.argmax(predictions[0])"
      ]
    },
    {
      "cell_type": "code",
      "execution_count": 98,
      "metadata": {
        "colab": {
          "base_uri": "https://localhost:8080/"
        },
        "id": "qRjhJsk58CGh",
        "outputId": "ac84ae03-fde1-445e-cb61-49906297f518"
      },
      "outputs": [
        {
          "data": {
            "text/plain": [
              "4"
            ]
          },
          "execution_count": 98,
          "metadata": {},
          "output_type": "execute_result"
        }
      ],
      "source": [
        "# Get the actual class of the same image\n",
        "test_labels[0]"
      ]
    },
    {
      "cell_type": "markdown",
      "metadata": {
        "id": "JSxyMa181QH-"
      },
      "source": [
        "### Plotting results "
      ]
    },
    {
      "cell_type": "code",
      "execution_count": 99,
      "metadata": {
        "id": "UqoRsJNU8FHu"
      },
      "outputs": [],
      "source": [
        "def plot_image(i, predictions_array, true_labels, images):\n",
        "  predictions_array, true_label, img = predictions_array[i], true_labels[i], images[i]\n",
        "  plt.grid(False)\n",
        "  plt.xticks([])\n",
        "  plt.yticks([])\n",
        "  \n",
        "  plt.imshow(img[...,0], cmap=plt.cm.binary)\n",
        "\n",
        "  predicted_label = np.argmax(predictions_array)\n",
        "  if predicted_label == true_label:\n",
        "    color = 'blue'\n",
        "  else:\n",
        "    color = 'red'\n",
        "  \n",
        "  plt.xlabel(\"{} {:2.0f}% ({})\".format(class_names[predicted_label],\n",
        "                                100*np.max(predictions_array),\n",
        "                                class_names[true_label]),\n",
        "                                color=color)\n",
        "\n",
        "def plot_value_array(i, predictions_array, true_label):\n",
        "  predictions_array, true_label = predictions_array[i], true_label[i]\n",
        "  plt.grid(False)\n",
        "  plt.xticks([])\n",
        "  plt.yticks([])\n",
        "  thisplot = plt.bar(range(10), predictions_array, color=\"#777777\")\n",
        "  plt.ylim([0, 1])\n",
        "  predicted_label = np.argmax(predictions_array)\n",
        "  \n",
        "  thisplot[predicted_label].set_color('red')\n",
        "  thisplot[true_label].set_color('blue')"
      ]
    },
    {
      "cell_type": "markdown",
      "metadata": {
        "id": "SO0YTLWv1f47"
      },
      "source": [
        "### Additional predictions "
      ]
    },
    {
      "cell_type": "code",
      "execution_count": 100,
      "metadata": {
        "colab": {
          "base_uri": "https://localhost:8080/",
          "height": 203
        },
        "id": "ccBt153s8H3g",
        "outputId": "b813afe9-571b-4547-a68e-a26d52161dd7"
      },
      "outputs": [
        {
          "data": {
            "image/png": "[encoded data removed]",
            "text/plain": [
              "<Figure size 432x216 with 2 Axes>"
            ]
          },
          "metadata": {},
          "output_type": "display_data"
        }
      ],
      "source": [
        "i = 0\n",
        "plt.figure(figsize=(6,3))\n",
        "plt.subplot(1,2,1)\n",
        "plot_image(i, predictions, test_labels, test_images)\n",
        "plt.subplot(1,2,2)\n",
        "plot_value_array(i, predictions, test_labels)"
      ]
    },
    {
      "cell_type": "code",
      "execution_count": 101,
      "metadata": {
        "colab": {
          "base_uri": "https://localhost:8080/",
          "height": 203
        },
        "id": "Tn0rVtRC8KTD",
        "outputId": "a7e6c76e-abb2-4c8f-f25d-2def21417fec"
      },
      "outputs": [
        {
          "data": {
            "image/png": "[encoded data removed]",
            "text/plain": [
              "<Figure size 432x216 with 2 Axes>"
            ]
          },
          "metadata": {},
          "output_type": "display_data"
        }
      ],
      "source": [
        "i = 12\n",
        "plt.figure(figsize=(6,3))\n",
        "plt.subplot(1,2,1)\n",
        "plot_image(i, predictions, test_labels, test_images)\n",
        "plt.subplot(1,2,2)\n",
        "plot_value_array(i, predictions, test_labels)"
      ]
    },
    {
      "cell_type": "markdown",
      "metadata": {
        "id": "5xwYRDos1lYr"
      },
      "source": [
        "### Several predictions "
      ]
    },
    {
      "cell_type": "code",
      "execution_count": 102,
      "metadata": {
        "colab": {
          "base_uri": "https://localhost:8080/",
          "height": 589
        },
        "id": "Ex-HgKPu8M7H",
        "outputId": "42ee4789-e3a6-42ef-e6d7-a13ba5cc97f4"
      },
      "outputs": [
        {
          "data": {
            "image/png": "[encoded data removed]",
            "text/plain": [
              "<Figure size 864x720 with 30 Axes>"
            ]
          },
          "metadata": {},
          "output_type": "display_data"
        }
      ],
      "source": [
        "# Plot the first 15 test images, their predicted label, and the true label\n",
        "# Color correct predictions in blue, incorrect predictions in red\n",
        "num_rows = 5\n",
        "num_cols = 3\n",
        "num_images = num_rows*num_cols\n",
        "plt.figure(figsize=(2*2*num_cols, 2*num_rows))\n",
        "for i in range(num_images):\n",
        "  plt.subplot(num_rows, 2*num_cols, 2*i+1)\n",
        "  plot_image(i, predictions, test_labels, test_images)\n",
        "  plt.subplot(num_rows, 2*num_cols, 2*i+2)\n",
        "  plot_value_array(i, predictions, test_labels)"
      ]
    },
    {
      "cell_type": "markdown",
      "metadata": {
        "id": "V8fh0ar08SvL"
      },
      "source": [
        "### Make a prediction using an image from the test set"
      ]
    },
    {
      "cell_type": "code",
      "execution_count": null,
      "metadata": {
        "id": "8b2sGFcC8QcH"
      },
      "outputs": [],
      "source": [
        "# Grab an image from the test dataset\n",
        "img = test_images[0]\n",
        "\n",
        "print(img.shape)"
      ]
    },
    {
      "cell_type": "code",
      "execution_count": 134,
      "metadata": {
        "colab": {
          "base_uri": "https://localhost:8080/"
        },
        "id": "y3y8Bo9g8XGD",
        "outputId": "393210f0-740d-4c06-e1c4-b1088bdd5791"
      },
      "outputs": [
        {
          "name": "stdout",
          "output_type": "stream",
          "text": [
            "(1, 28, 28, 1)\n"
          ]
        }
      ],
      "source": [
        "# Add the image to a batch where it's the only member.\n",
        "img = np.array([img])\n",
        "\n",
        "print(img.shape)"
      ]
    },
    {
      "cell_type": "code",
      "execution_count": 135,
      "metadata": {
        "colab": {
          "base_uri": "https://localhost:8080/"
        },
        "id": "UjxuEz2D8Y2a",
        "outputId": "5bc029e0-539f-4d57-a22f-4e235b8ccd48"
      },
      "outputs": [
        {
          "name": "stdout",
          "output_type": "stream",
          "text": [
            "[[3.9607104e-07 4.8327085e-08 3.8059716e-04 1.2522625e-06 9.9588323e-01\n",
            "  2.7645401e-08 3.7311211e-03 1.8159638e-07 9.3958073e-07 2.2484580e-06]]\n"
          ]
        }
      ],
      "source": [
        "predictions_single = model.predict(img)\n",
        "\n",
        "print(predictions_single)"
      ]
    },
    {
      "cell_type": "code",
      "execution_count": 136,
      "metadata": {
        "colab": {
          "base_uri": "https://localhost:8080/",
          "height": 300
        },
        "id": "tuXPip0c8bBF",
        "outputId": "c8971bdc-bbe7-40f0-dff4-fc73c38a4623"
      },
      "outputs": [
        {
          "data": {
            "image/png": "[encoded data removed]",
            "text/plain": [
              "<Figure size 432x288 with 1 Axes>"
            ]
          },
          "metadata": {
            "needs_background": "light"
          },
          "output_type": "display_data"
        }
      ],
      "source": [
        "plot_value_array(0, predictions_single, test_labels)\n",
        "_ = plt.xticks(range(10), class_names, rotation=45)"
      ]
    },
    {
      "cell_type": "code",
      "execution_count": 137,
      "metadata": {
        "colab": {
          "base_uri": "https://localhost:8080/"
        },
        "id": "kxJi-t0j8c9A",
        "outputId": "50638a0e-22f9-494e-8277-99be851ff50f"
      },
      "outputs": [
        {
          "name": "stdout",
          "output_type": "stream",
          "text": [
            "Predicted class: Coat\n",
            "Actual class: Coat\n"
          ]
        }
      ],
      "source": [
        "print(\"Predicted class: {}\".format(class_names[np.argmax(predictions_single[0])]))\n",
        "print(\"Actual class: {}\".format(class_names[test_labels[0]]))"
      ]
    }
  ],
  "metadata": {
    "accelerator": "GPU",
    "colab": {
      "collapsed_sections": [],
      "name": "Intro to Deep Learning for Images classification",
      "provenance": [],
      "toc_visible": true
    },
    "gpuClass": "standard",
    "kernelspec": {
      "display_name": "Python 3.8.10 64-bit",
      "language": "python",
      "name": "python3"
    },
    "language_info": {
      "name": "python",
      "version": "3.8.10"
    },
    "vscode": {
      "interpreter": {
        "hash": "916dbcbb3f70747c44a77c7bcd40155683ae19c65e1c03b4aa3499c5328201f1"
      }
    }
  },
  "nbformat": 4,
  "nbformat_minor": 0
}
